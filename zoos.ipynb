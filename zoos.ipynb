{
 "cells": [
  {
   "cell_type": "markdown",
   "metadata": {},
   "source": [
    "# Red Panda Zoos"
   ]
  },
  {
   "cell_type": "markdown",
   "metadata": {},
   "source": [
    "## 1.Intro"
   ]
  },
  {
   "cell_type": "markdown",
   "metadata": {},
   "source": [
    "According to several sientific reports, there are about 10.000 red pandas in the wild and approx. 2.000 in the zoos around the world. redpandasfinder dot com is a great source of structured information about red pandas living in the zoos. redpandafinder dot com gives an access to a json file that contains information on 496 red pandas and 109 zoos where they live in. "
   ]
  },
  {
   "cell_type": "markdown",
   "metadata": {},
   "source": [
    "These cute furry animals spend days on the tops of rainforest trees eating bamboo and chilling in the shadows. They are absolutely harmless and adorable. They also have fur on the soles of the paws which make them really special. \n",
    "However during the last century the population on red pandas is decreasing significantlly and these days they have been classified as endangered in the IUCN Red List. There is a special surviving programm for this animals with the participation of many countries and many zoos."
   ]
  },
  {
   "cell_type": "markdown",
   "metadata": {},
   "source": [
    "## 2. Task"
   ]
  },
  {
   "cell_type": "markdown",
   "metadata": {},
   "source": [
    "Red pandas are common habitants in zoos in all part of the world. Thus we should expect that the zoos from the json file would be spread evenly at least in the North hemisphere. We will visualize the zoos on the world map and find out whether it is true or not."
   ]
  },
  {
   "cell_type": "markdown",
   "metadata": {},
   "source": [
    "## 3. Methodology"
   ]
  },
  {
   "cell_type": "markdown",
   "metadata": {},
   "source": [
    "Before we get the data and start exploring it, let's download all the dependencies that we need."
   ]
  },
  {
   "cell_type": "code",
   "execution_count": 37,
   "metadata": {},
   "outputs": [],
   "source": [
    "import pandas as pd\n",
    "import json\n",
    "import time\n",
    "import folium\n",
    "import requests\n",
    "import re"
   ]
  },
  {
   "cell_type": "markdown",
   "metadata": {},
   "source": [
    "### 3.1. Analyzing redpanda.json"
   ]
  },
  {
   "cell_type": "code",
   "execution_count": 38,
   "metadata": {},
   "outputs": [],
   "source": [
    "url = 'http://redpandafinder.com/export/redpanda.json'\n",
    "result = requests.get('http://redpandafinder.com/export/redpanda.json')\n",
    "result.raise_for_status()"
   ]
  },
  {
   "cell_type": "code",
   "execution_count": 39,
   "metadata": {},
   "outputs": [
    {
     "name": "stdout",
     "output_type": "stream",
     "text": [
      "['_photo', '_totals', 'edges', 'vertices']\n"
     ]
    }
   ],
   "source": [
    "panda_json = result.json()\n",
    "# Check if the json is OK\n",
    "print([key for key in panda_json]) # should be ['_photo', '_totals', 'edges', 'vertices']"
   ]
  },
  {
   "cell_type": "markdown",
   "metadata": {},
   "source": [
    "Information we intrested in is stored within the 'vertices' key. Each vertex is either a red panda or a zoo. Each red panda vertex has a positive id number and each zoo has a negative id. For example:"
   ]
  },
  {
   "cell_type": "code",
   "execution_count": 40,
   "metadata": {},
   "outputs": [
    {
     "data": {
      "text/plain": [
       "{'_id': '-98',\n",
       " 'en.address': 'República de la India, C1425 CABA, Argentina',\n",
       " 'en.location': 'Buenos Aires, Argentina',\n",
       " 'en.name': 'Buenos Aires Eco-Park',\n",
       " 'es.address': 'República de la India, C1425 CABA, Argentina',\n",
       " 'es.location': 'Buenos Aires, Argentina',\n",
       " 'es.name': 'Ecoparque Interactivo de Buenos Aires',\n",
       " 'flag': 'Argentina',\n",
       " 'language.order': 'es, en, jp',\n",
       " 'map': 'https://goo.gl/maps/LtEhMY2XMbJ2',\n",
       " 'website': 'http://www.buenosaires.gob.ar/ecoparque'}"
      ]
     },
     "execution_count": 40,
     "metadata": {},
     "output_type": "execute_result"
    }
   ],
   "source": [
    "# A zoo vertex\n",
    "panda_json['vertices'][0]"
   ]
  },
  {
   "cell_type": "code",
   "execution_count": 41,
   "metadata": {},
   "outputs": [
    {
     "data": {
      "text/plain": [
       "{'_id': '486',\n",
       " 'birthday': '2017/7/23',\n",
       " 'en.name': 'Paprika',\n",
       " 'gender': 'Female',\n",
       " 'jp.name': 'パプリカ',\n",
       " 'language.order': 'en, jp',\n",
       " 'species': '2'}"
      ]
     },
     "execution_count": 41,
     "metadata": {},
     "output_type": "execute_result"
    }
   ],
   "source": [
    "# A red panda vertex\n",
    "panda_json['vertices'][550]"
   ]
  },
  {
   "cell_type": "markdown",
   "metadata": {},
   "source": [
    "Let's count red pandas and zoos to ensure numbers we obtain from redpandafinder dot com: 109 zoos and 496 red pandas."
   ]
  },
  {
   "cell_type": "code",
   "execution_count": 42,
   "metadata": {},
   "outputs": [
    {
     "name": "stdout",
     "output_type": "stream",
     "text": [
      "There are 109 zoos and 496 red pandas in there.\n"
     ]
    }
   ],
   "source": [
    "panda_count, zoo_count = 0,0\n",
    "for vertex in panda_json['vertices']:\n",
    "    if float(vertex['_id']) < 0:\n",
    "        zoo_count += 1\n",
    "    else:\n",
    "        panda_count += 1\n",
    "print('There are {0} zoos and {1} red pandas in there.'.format(zoo_count, panda_count))"
   ]
  },
  {
   "cell_type": "markdown",
   "metadata": {},
   "source": [
    "OK, information is correct."
   ]
  },
  {
   "cell_type": "markdown",
   "metadata": {},
   "source": [
    "### 3.2. Zoo Dataframe"
   ]
  },
  {
   "cell_type": "markdown",
   "metadata": {},
   "source": [
    "Now we are ready to create a DataFrame of zoos for analysing and mapping."
   ]
  },
  {
   "cell_type": "code",
   "execution_count": 43,
   "metadata": {},
   "outputs": [
    {
     "data": {
      "text/html": [
       "<div>\n",
       "<style scoped>\n",
       "    .dataframe tbody tr th:only-of-type {\n",
       "        vertical-align: middle;\n",
       "    }\n",
       "\n",
       "    .dataframe tbody tr th {\n",
       "        vertical-align: top;\n",
       "    }\n",
       "\n",
       "    .dataframe thead th {\n",
       "        text-align: right;\n",
       "    }\n",
       "</style>\n",
       "<table border=\"1\" class=\"dataframe\">\n",
       "  <thead>\n",
       "    <tr style=\"text-align: right;\">\n",
       "      <th></th>\n",
       "      <th>_id</th>\n",
       "      <th>cn.address</th>\n",
       "      <th>cn.location</th>\n",
       "      <th>cn.name</th>\n",
       "      <th>en.address</th>\n",
       "      <th>en.location</th>\n",
       "      <th>en.name</th>\n",
       "      <th>en.othernames</th>\n",
       "      <th>es.address</th>\n",
       "      <th>es.location</th>\n",
       "      <th>...</th>\n",
       "      <th>nl.address</th>\n",
       "      <th>nl.location</th>\n",
       "      <th>nl.name</th>\n",
       "      <th>photo</th>\n",
       "      <th>photo.author</th>\n",
       "      <th>photo.link</th>\n",
       "      <th>th.address</th>\n",
       "      <th>th.location</th>\n",
       "      <th>th.name</th>\n",
       "      <th>website</th>\n",
       "    </tr>\n",
       "  </thead>\n",
       "  <tbody>\n",
       "    <tr>\n",
       "      <th>0</th>\n",
       "      <td>-98</td>\n",
       "      <td>NaN</td>\n",
       "      <td>NaN</td>\n",
       "      <td>NaN</td>\n",
       "      <td>República de la India, C1425 CABA, Argentina</td>\n",
       "      <td>Buenos Aires, Argentina</td>\n",
       "      <td>Buenos Aires Eco-Park</td>\n",
       "      <td>NaN</td>\n",
       "      <td>República de la India, C1425 CABA, Argentina</td>\n",
       "      <td>Buenos Aires, Argentina</td>\n",
       "      <td>...</td>\n",
       "      <td>NaN</td>\n",
       "      <td>NaN</td>\n",
       "      <td>NaN</td>\n",
       "      <td>NaN</td>\n",
       "      <td>NaN</td>\n",
       "      <td>NaN</td>\n",
       "      <td>NaN</td>\n",
       "      <td>NaN</td>\n",
       "      <td>NaN</td>\n",
       "      <td>http://www.buenosaires.gob.ar/ecoparque</td>\n",
       "    </tr>\n",
       "    <tr>\n",
       "      <th>1</th>\n",
       "      <td>-51</td>\n",
       "      <td>NaN</td>\n",
       "      <td>NaN</td>\n",
       "      <td>NaN</td>\n",
       "      <td>210 St. George's Drive NE, Calgary, AB T2E 7V6...</td>\n",
       "      <td>Calgary, Alberta, Canada</td>\n",
       "      <td>Calgary Zoo</td>\n",
       "      <td>NaN</td>\n",
       "      <td>NaN</td>\n",
       "      <td>NaN</td>\n",
       "      <td>...</td>\n",
       "      <td>NaN</td>\n",
       "      <td>NaN</td>\n",
       "      <td>NaN</td>\n",
       "      <td>https://www.instagram.com/p/7q3sBBGtnG/media/?...</td>\n",
       "      <td>thecalgaryzoo</td>\n",
       "      <td>https://www.instagram.com/thecalgaryzoo/</td>\n",
       "      <td>NaN</td>\n",
       "      <td>NaN</td>\n",
       "      <td>NaN</td>\n",
       "      <td>https://www.calgaryzoo.com/</td>\n",
       "    </tr>\n",
       "    <tr>\n",
       "      <th>2</th>\n",
       "      <td>-68</td>\n",
       "      <td>NaN</td>\n",
       "      <td>NaN</td>\n",
       "      <td>NaN</td>\n",
       "      <td>2821 Stevensville Rd, Stevensville, ON L0S 1S0...</td>\n",
       "      <td>Fort Erie, Ontario, Canada</td>\n",
       "      <td>Safari Niagra</td>\n",
       "      <td>NaN</td>\n",
       "      <td>NaN</td>\n",
       "      <td>NaN</td>\n",
       "      <td>...</td>\n",
       "      <td>NaN</td>\n",
       "      <td>NaN</td>\n",
       "      <td>NaN</td>\n",
       "      <td>https://www.instagram.com/p/oHvh9bxWxl/media/?...</td>\n",
       "      <td>a.stevens_xo</td>\n",
       "      <td>https://www.instagram.com/a.stevens_xo/</td>\n",
       "      <td>NaN</td>\n",
       "      <td>NaN</td>\n",
       "      <td>NaN</td>\n",
       "      <td>https://safariniagara.com/</td>\n",
       "    </tr>\n",
       "  </tbody>\n",
       "</table>\n",
       "<p>3 rows × 34 columns</p>\n",
       "</div>"
      ],
      "text/plain": [
       "   _id cn.address cn.location cn.name  \\\n",
       "0  -98        NaN         NaN     NaN   \n",
       "1  -51        NaN         NaN     NaN   \n",
       "2  -68        NaN         NaN     NaN   \n",
       "\n",
       "                                          en.address  \\\n",
       "0       República de la India, C1425 CABA, Argentina   \n",
       "1  210 St. George's Drive NE, Calgary, AB T2E 7V6...   \n",
       "2  2821 Stevensville Rd, Stevensville, ON L0S 1S0...   \n",
       "\n",
       "                  en.location                en.name en.othernames  \\\n",
       "0     Buenos Aires, Argentina  Buenos Aires Eco-Park           NaN   \n",
       "1    Calgary, Alberta, Canada            Calgary Zoo           NaN   \n",
       "2  Fort Erie, Ontario, Canada          Safari Niagra           NaN   \n",
       "\n",
       "                                     es.address              es.location  \\\n",
       "0  República de la India, C1425 CABA, Argentina  Buenos Aires, Argentina   \n",
       "1                                           NaN                      NaN   \n",
       "2                                           NaN                      NaN   \n",
       "\n",
       "                    ...                    nl.address nl.location nl.name  \\\n",
       "0                   ...                           NaN         NaN     NaN   \n",
       "1                   ...                           NaN         NaN     NaN   \n",
       "2                   ...                           NaN         NaN     NaN   \n",
       "\n",
       "                                               photo   photo.author  \\\n",
       "0                                                NaN            NaN   \n",
       "1  https://www.instagram.com/p/7q3sBBGtnG/media/?...  thecalgaryzoo   \n",
       "2  https://www.instagram.com/p/oHvh9bxWxl/media/?...   a.stevens_xo   \n",
       "\n",
       "                                 photo.link th.address th.location th.name  \\\n",
       "0                                       NaN        NaN         NaN     NaN   \n",
       "1  https://www.instagram.com/thecalgaryzoo/        NaN         NaN     NaN   \n",
       "2   https://www.instagram.com/a.stevens_xo/        NaN         NaN     NaN   \n",
       "\n",
       "                                   website  \n",
       "0  http://www.buenosaires.gob.ar/ecoparque  \n",
       "1              https://www.calgaryzoo.com/  \n",
       "2               https://safariniagara.com/  \n",
       "\n",
       "[3 rows x 34 columns]"
      ]
     },
     "execution_count": 43,
     "metadata": {},
     "output_type": "execute_result"
    }
   ],
   "source": [
    "zoo_df = pd.DataFrame(panda_json['vertices'][:zoo_count])\n",
    "zoo_df.head(2)"
   ]
  },
  {
   "cell_type": "code",
   "execution_count": 44,
   "metadata": {},
   "outputs": [
    {
     "data": {
      "text/plain": [
       "(109, 34)"
      ]
     },
     "execution_count": 44,
     "metadata": {},
     "output_type": "execute_result"
    }
   ],
   "source": [
    "# Make sure the size\n",
    "zoo_df.shape"
   ]
  },
  {
   "cell_type": "code",
   "execution_count": 45,
   "metadata": {},
   "outputs": [
    {
     "data": {
      "text/plain": [
       "Index(['_id', 'cn.address', 'cn.location', 'cn.name', 'en.address',\n",
       "       'en.location', 'en.name', 'en.othernames', 'es.address', 'es.location',\n",
       "       'es.name', 'flag', 'fr.address', 'fr.location', 'fr.name', 'jp.address',\n",
       "       'jp.location', 'jp.name', 'jp.othernames', 'kr.address', 'kr.location',\n",
       "       'kr.name', 'language.order', 'map', 'nl.address', 'nl.location',\n",
       "       'nl.name', 'photo', 'photo.author', 'photo.link', 'th.address',\n",
       "       'th.location', 'th.name', 'website'],\n",
       "      dtype='object')"
      ]
     },
     "execution_count": 45,
     "metadata": {},
     "output_type": "execute_result"
    }
   ],
   "source": [
    "# Check the columns... Er, do we need all of these?\n",
    "zoo_df.columns"
   ]
  },
  {
   "cell_type": "markdown",
   "metadata": {},
   "source": [
    "For the task in hand we will need only a few columns. Let's drop usless ones."
   ]
  },
  {
   "cell_type": "code",
   "execution_count": 46,
   "metadata": {},
   "outputs": [
    {
     "data": {
      "text/html": [
       "<div>\n",
       "<style scoped>\n",
       "    .dataframe tbody tr th:only-of-type {\n",
       "        vertical-align: middle;\n",
       "    }\n",
       "\n",
       "    .dataframe tbody tr th {\n",
       "        vertical-align: top;\n",
       "    }\n",
       "\n",
       "    .dataframe thead th {\n",
       "        text-align: right;\n",
       "    }\n",
       "</style>\n",
       "<table border=\"1\" class=\"dataframe\">\n",
       "  <thead>\n",
       "    <tr style=\"text-align: right;\">\n",
       "      <th></th>\n",
       "      <th>_id</th>\n",
       "      <th>en.name</th>\n",
       "      <th>en.address</th>\n",
       "      <th>en.location</th>\n",
       "      <th>map</th>\n",
       "      <th>website</th>\n",
       "    </tr>\n",
       "  </thead>\n",
       "  <tbody>\n",
       "    <tr>\n",
       "      <th>0</th>\n",
       "      <td>-98</td>\n",
       "      <td>Buenos Aires Eco-Park</td>\n",
       "      <td>República de la India, C1425 CABA, Argentina</td>\n",
       "      <td>Buenos Aires, Argentina</td>\n",
       "      <td>https://goo.gl/maps/LtEhMY2XMbJ2</td>\n",
       "      <td>http://www.buenosaires.gob.ar/ecoparque</td>\n",
       "    </tr>\n",
       "    <tr>\n",
       "      <th>1</th>\n",
       "      <td>-51</td>\n",
       "      <td>Calgary Zoo</td>\n",
       "      <td>210 St. George's Drive NE, Calgary, AB T2E 7V6...</td>\n",
       "      <td>Calgary, Alberta, Canada</td>\n",
       "      <td>https://goo.gl/maps/gXaumYRHucJ2</td>\n",
       "      <td>https://www.calgaryzoo.com/</td>\n",
       "    </tr>\n",
       "    <tr>\n",
       "      <th>2</th>\n",
       "      <td>-68</td>\n",
       "      <td>Safari Niagra</td>\n",
       "      <td>2821 Stevensville Rd, Stevensville, ON L0S 1S0...</td>\n",
       "      <td>Fort Erie, Ontario, Canada</td>\n",
       "      <td>https://goo.gl/maps/PkYjqGk5rX22</td>\n",
       "      <td>https://safariniagara.com/</td>\n",
       "    </tr>\n",
       "    <tr>\n",
       "      <th>3</th>\n",
       "      <td>-76</td>\n",
       "      <td>Assiniboine Park Zoo</td>\n",
       "      <td>2595 Roblin Blvd, Winnipeg, MB R3R 2N7, Canada</td>\n",
       "      <td>Winnipeg, Manitoba, Canada</td>\n",
       "      <td>https://goo.gl/maps/yA6s5Fk3SZx</td>\n",
       "      <td>http://www.assiniboineparkzoo.ca/</td>\n",
       "    </tr>\n",
       "    <tr>\n",
       "      <th>4</th>\n",
       "      <td>-82</td>\n",
       "      <td>Edmonton Valley Zoo</td>\n",
       "      <td>13315 Buena Vista Road &amp; 87th Avenue, Edmonton...</td>\n",
       "      <td>Edmonton, Alberta, Canada</td>\n",
       "      <td>https://goo.gl/maps/34HUM7tYy542</td>\n",
       "      <td>https://www.edmonton.ca/attractions_events/edm...</td>\n",
       "    </tr>\n",
       "  </tbody>\n",
       "</table>\n",
       "</div>"
      ],
      "text/plain": [
       "   _id                en.name  \\\n",
       "0  -98  Buenos Aires Eco-Park   \n",
       "1  -51            Calgary Zoo   \n",
       "2  -68          Safari Niagra   \n",
       "3  -76   Assiniboine Park Zoo   \n",
       "4  -82    Edmonton Valley Zoo   \n",
       "\n",
       "                                          en.address  \\\n",
       "0       República de la India, C1425 CABA, Argentina   \n",
       "1  210 St. George's Drive NE, Calgary, AB T2E 7V6...   \n",
       "2  2821 Stevensville Rd, Stevensville, ON L0S 1S0...   \n",
       "3     2595 Roblin Blvd, Winnipeg, MB R3R 2N7, Canada   \n",
       "4  13315 Buena Vista Road & 87th Avenue, Edmonton...   \n",
       "\n",
       "                  en.location                               map  \\\n",
       "0     Buenos Aires, Argentina  https://goo.gl/maps/LtEhMY2XMbJ2   \n",
       "1    Calgary, Alberta, Canada  https://goo.gl/maps/gXaumYRHucJ2   \n",
       "2  Fort Erie, Ontario, Canada  https://goo.gl/maps/PkYjqGk5rX22   \n",
       "3  Winnipeg, Manitoba, Canada   https://goo.gl/maps/yA6s5Fk3SZx   \n",
       "4   Edmonton, Alberta, Canada  https://goo.gl/maps/34HUM7tYy542   \n",
       "\n",
       "                                             website  \n",
       "0            http://www.buenosaires.gob.ar/ecoparque  \n",
       "1                        https://www.calgaryzoo.com/  \n",
       "2                         https://safariniagara.com/  \n",
       "3                  http://www.assiniboineparkzoo.ca/  \n",
       "4  https://www.edmonton.ca/attractions_events/edm...  "
      ]
     },
     "execution_count": 46,
     "metadata": {},
     "output_type": "execute_result"
    }
   ],
   "source": [
    "# Nope, we only need a few\n",
    "zoo_short_df = zoo_df[['_id','en.name','en.address','en.location','map','website']].copy()\n",
    "zoo_short_df.head(2)"
   ]
  },
  {
   "cell_type": "code",
   "execution_count": 47,
   "metadata": {},
   "outputs": [
    {
     "data": {
      "text/plain": [
       "(109, 6)"
      ]
     },
     "execution_count": 47,
     "metadata": {},
     "output_type": "execute_result"
    }
   ],
   "source": [
    "zoo_short_df.shape"
   ]
  },
  {
   "cell_type": "markdown",
   "metadata": {},
   "source": [
    "For the future purposes we append columns for geographic coordinates and fill them with zeros."
   ]
  },
  {
   "cell_type": "code",
   "execution_count": 48,
   "metadata": {},
   "outputs": [
    {
     "data": {
      "text/html": [
       "<div>\n",
       "<style scoped>\n",
       "    .dataframe tbody tr th:only-of-type {\n",
       "        vertical-align: middle;\n",
       "    }\n",
       "\n",
       "    .dataframe tbody tr th {\n",
       "        vertical-align: top;\n",
       "    }\n",
       "\n",
       "    .dataframe thead th {\n",
       "        text-align: right;\n",
       "    }\n",
       "</style>\n",
       "<table border=\"1\" class=\"dataframe\">\n",
       "  <thead>\n",
       "    <tr style=\"text-align: right;\">\n",
       "      <th></th>\n",
       "      <th>_id</th>\n",
       "      <th>en.name</th>\n",
       "      <th>en.address</th>\n",
       "      <th>en.location</th>\n",
       "      <th>map</th>\n",
       "      <th>website</th>\n",
       "      <th>latitude</th>\n",
       "      <th>longitude</th>\n",
       "    </tr>\n",
       "  </thead>\n",
       "  <tbody>\n",
       "    <tr>\n",
       "      <th>0</th>\n",
       "      <td>-98</td>\n",
       "      <td>Buenos Aires Eco-Park</td>\n",
       "      <td>República de la India, C1425 CABA, Argentina</td>\n",
       "      <td>Buenos Aires, Argentina</td>\n",
       "      <td>https://goo.gl/maps/LtEhMY2XMbJ2</td>\n",
       "      <td>http://www.buenosaires.gob.ar/ecoparque</td>\n",
       "      <td>0.0</td>\n",
       "      <td>0.0</td>\n",
       "    </tr>\n",
       "  </tbody>\n",
       "</table>\n",
       "</div>"
      ],
      "text/plain": [
       "   _id                en.name                                    en.address  \\\n",
       "0  -98  Buenos Aires Eco-Park  República de la India, C1425 CABA, Argentina   \n",
       "\n",
       "               en.location                               map  \\\n",
       "0  Buenos Aires, Argentina  https://goo.gl/maps/LtEhMY2XMbJ2   \n",
       "\n",
       "                                   website  latitude  longitude  \n",
       "0  http://www.buenosaires.gob.ar/ecoparque       0.0        0.0  "
      ]
     },
     "execution_count": 48,
     "metadata": {},
     "output_type": "execute_result"
    }
   ],
   "source": [
    "zoo_short_df['latitude'] = 0.\n",
    "zoo_short_df['longitude'] = 0.\n",
    "zoo_short_df.head(2)"
   ]
  },
  {
   "cell_type": "markdown",
   "metadata": {},
   "source": [
    "Now everything is ready to collect geographical coordinates of each zoo in the dataframe and map results."
   ]
  },
  {
   "cell_type": "markdown",
   "metadata": {},
   "source": [
    "## 3.3. Collecting Coordinates"
   ]
  },
  {
   "cell_type": "markdown",
   "metadata": {},
   "source": [
    "Free geospatial servises returning geographic coordinates for an address in question are usually unreliable. What if the task can be solved easier, though not so elegant. The 'map' field in the zoo dataframe contains a short link that redirects to GoogleMap.\n",
    "Like _https://goo.gl/maps/LtEhMY2XMbJ2_. If you click it, after a while you will find youself on the page with different address: _https://www.google.com/maps/place/Proyecto+EcoParque+Interactivo/@-34.5781333,-58.4853221,12z/data=!4m5!3m4!1s0x95bcb57835e44c59:0x9e74dd4b6cbb6d4!8m2!3d-34.5781533!4d-58.415282_.  \n",
    "Do you see? **.../@-34.5781333,-58.4853221,...** Bingo! That new link already contains the coordinates. So the solution could be as following:  \n",
    "1. Get a response object by applying _requests.get()_ method to a short link in the 'map' field.  \n",
    "2. Apply a regular expression to the _url_ attribute of the response object.  \n",
    "3. Convert coordinates to float numbers and fill the corresponding fields in the zoo dataframe.\n",
    "4. Repeat for each of 109 zoos."
   ]
  },
  {
   "cell_type": "markdown",
   "metadata": {},
   "source": [
    "Sounds easy. But is it? Doing that I found that even Google patience has its limits. After a while he discovered a 'suspicious' activity from my computer and stoped supplying me with response objects, giving me the 503-th error. Funny enough, the error message contained an url I needed but in a slightly different format. Something like: _https://www.google.com/.../%40-34.5781333,-58.4853221,12z..._ So the only difference was that '@' were replaced by '%40'. We only need another regular expression to handle it.  Let's do it keeping an eye on zoos that are left without coordinates."
   ]
  },
  {
   "cell_type": "code",
   "execution_count": 49,
   "metadata": {},
   "outputs": [
    {
     "name": "stdout",
     "output_type": "stream",
     "text": [
      "No coordinates for:\n",
      "Chonquing Zoo\n",
      "Ichikawa Zoological & Botanical Gardens\n",
      "Kyoto City Zoo\n",
      "Nagasaki Bio Park\n",
      "Yumemigasaki Zoological Park\n",
      "Tokuyama Zoo\n",
      "Sapporo Maruyama Zoo\n",
      "Chiba Zoological Park\n"
     ]
    }
   ],
   "source": [
    "coordinate_regex = re.compile(r'@(\\S+)(,)') # if success\n",
    "error_regex = re.compile(r'%40(\\S+)(,)') # otherwise\n",
    "missing_zoos = []\n",
    "print('No coordinates for:')\n",
    "for i in range(zoo_count):\n",
    "    try:\n",
    "        result = requests.get(zoo_short_df.iloc[i,4])\n",
    "        result.raise_for_status()\n",
    "    except:\n",
    "        mo = error_regex.search(result.url)\n",
    "        continue\n",
    "    else:\n",
    "        mo = coordinate_regex.search(result.url)\n",
    "    finally:\n",
    "        if mo:\n",
    "            coordinates = mo.groups()[0].split(',')\n",
    "            coordinates = [float(coor) for coor in coordinates]\n",
    "            zoo_short_df.iloc[i,6], zoo_short_df.iloc[i,7] = coordinates\n",
    "        else:\n",
    "            missing_zoos.append(zoo_short_df.iloc[i,0])\n",
    "            print(zoo_short_df.iloc[i,1])\n",
    "        time.sleep(3)  # I am not a barbarian after all and have some modesty..."
   ]
  },
  {
   "cell_type": "markdown",
   "metadata": {},
   "source": [
    "We collected 101 coordinate pairs and only for 8 zoos requests failed. What should we do next?"
   ]
  },
  {
   "cell_type": "code",
   "execution_count": 50,
   "metadata": {},
   "outputs": [
    {
     "data": {
      "text/html": [
       "<div>\n",
       "<style scoped>\n",
       "    .dataframe tbody tr th:only-of-type {\n",
       "        vertical-align: middle;\n",
       "    }\n",
       "\n",
       "    .dataframe tbody tr th {\n",
       "        vertical-align: top;\n",
       "    }\n",
       "\n",
       "    .dataframe thead th {\n",
       "        text-align: right;\n",
       "    }\n",
       "</style>\n",
       "<table border=\"1\" class=\"dataframe\">\n",
       "  <thead>\n",
       "    <tr style=\"text-align: right;\">\n",
       "      <th></th>\n",
       "      <th>_id</th>\n",
       "      <th>en.name</th>\n",
       "      <th>en.address</th>\n",
       "      <th>en.location</th>\n",
       "      <th>map</th>\n",
       "      <th>website</th>\n",
       "      <th>latitude</th>\n",
       "      <th>longitude</th>\n",
       "    </tr>\n",
       "  </thead>\n",
       "  <tbody>\n",
       "    <tr>\n",
       "      <th>10</th>\n",
       "      <td>-5</td>\n",
       "      <td>Chonquing Zoo</td>\n",
       "      <td>Chongqing Zoo, Jiulongpo Qu, China, 400080</td>\n",
       "      <td>Jiulongpo Qu</td>\n",
       "      <td>https://goo.gl/maps/rsck5UV8B552</td>\n",
       "      <td>http://www.cqzoo.com</td>\n",
       "      <td>0.0</td>\n",
       "      <td>0.0</td>\n",
       "    </tr>\n",
       "    <tr>\n",
       "      <th>12</th>\n",
       "      <td>-1</td>\n",
       "      <td>Ichikawa Zoological &amp; Botanical Gardens</td>\n",
       "      <td>Ichikawa City Zoo, Japan, 〒272-0801 Chiba Pref...</td>\n",
       "      <td>Ichikawa, Chiba Prefecture</td>\n",
       "      <td>https://goo.gl/maps/WSyNu7HFhH42</td>\n",
       "      <td>http://www.city.ichikawa.lg.jp/zoo/index.html</td>\n",
       "      <td>0.0</td>\n",
       "      <td>0.0</td>\n",
       "    </tr>\n",
       "    <tr>\n",
       "      <th>13</th>\n",
       "      <td>-2</td>\n",
       "      <td>Kyoto City Zoo</td>\n",
       "      <td>Okazaki Hoshojicho, Sakyo Ward, Kyoto, Kyoto P...</td>\n",
       "      <td>Kyoto City, Kyoto Prefecture, Sakyo Ward</td>\n",
       "      <td>https://goo.gl/maps/BzPvCJ64eiB2</td>\n",
       "      <td>http://www5.city.kyoto.jp/zoo/</td>\n",
       "      <td>0.0</td>\n",
       "      <td>0.0</td>\n",
       "    </tr>\n",
       "    <tr>\n",
       "      <th>14</th>\n",
       "      <td>-3</td>\n",
       "      <td>Nagasaki Bio Park</td>\n",
       "      <td>2291-1 Seihicho Nakayamago, Saikai, Nagasaki P...</td>\n",
       "      <td>Nagasaki Prefecture</td>\n",
       "      <td>https://goo.gl/maps/L1wXjRmYYeo</td>\n",
       "      <td>http://www.biopark.co.jp</td>\n",
       "      <td>0.0</td>\n",
       "      <td>0.0</td>\n",
       "    </tr>\n",
       "    <tr>\n",
       "      <th>15</th>\n",
       "      <td>-4</td>\n",
       "      <td>Yumemigasaki Zoological Park</td>\n",
       "      <td>1 Chome-2-1 Minamikase, Saiwai-ku, Kawasaki-sh...</td>\n",
       "      <td>Kawasaki, Kanagawa Prefecture</td>\n",
       "      <td>https://goo.gl/maps/kfMhVjS52Gs</td>\n",
       "      <td>http://www.city.kawasaki.jp/saiwai/page/000004...</td>\n",
       "      <td>0.0</td>\n",
       "      <td>0.0</td>\n",
       "    </tr>\n",
       "    <tr>\n",
       "      <th>16</th>\n",
       "      <td>-6</td>\n",
       "      <td>Tokuyama Zoo</td>\n",
       "      <td>5846 Tokuyama, Shunan, Yamaguchi Prefecture 74...</td>\n",
       "      <td>Shūnan, Yamaguchi Prefecture</td>\n",
       "      <td>https://goo.gl/maps/bMAGo54PQxq</td>\n",
       "      <td>http://www.city.shunan.lg.jp/site/zoo/</td>\n",
       "      <td>0.0</td>\n",
       "      <td>0.0</td>\n",
       "    </tr>\n",
       "    <tr>\n",
       "      <th>17</th>\n",
       "      <td>-7</td>\n",
       "      <td>Sapporo Maruyama Zoo</td>\n",
       "      <td>Japan, 〒064-0959 Hokkaido, Sapporo, Chuo Ward,...</td>\n",
       "      <td>Sapporo, Hokkaido</td>\n",
       "      <td>https://goo.gl/maps/EY3uZRXNWNr</td>\n",
       "      <td>http://www.city.sapporo.jp/zoo/index.html</td>\n",
       "      <td>0.0</td>\n",
       "      <td>0.0</td>\n",
       "    </tr>\n",
       "    <tr>\n",
       "      <th>18</th>\n",
       "      <td>-8</td>\n",
       "      <td>Chiba Zoological Park</td>\n",
       "      <td>280番地 Minamotocho, Wakaba Ward, Chiba, Chiba P...</td>\n",
       "      <td>Chiba</td>\n",
       "      <td>https://goo.gl/maps/14c7BwdSTkr</td>\n",
       "      <td>https://www.city.chiba.jp/zoo/</td>\n",
       "      <td>0.0</td>\n",
       "      <td>0.0</td>\n",
       "    </tr>\n",
       "  </tbody>\n",
       "</table>\n",
       "</div>"
      ],
      "text/plain": [
       "   _id                                  en.name  \\\n",
       "10  -5                            Chonquing Zoo   \n",
       "12  -1  Ichikawa Zoological & Botanical Gardens   \n",
       "13  -2                           Kyoto City Zoo   \n",
       "14  -3                        Nagasaki Bio Park   \n",
       "15  -4             Yumemigasaki Zoological Park   \n",
       "16  -6                             Tokuyama Zoo   \n",
       "17  -7                     Sapporo Maruyama Zoo   \n",
       "18  -8                    Chiba Zoological Park   \n",
       "\n",
       "                                           en.address  \\\n",
       "10         Chongqing Zoo, Jiulongpo Qu, China, 400080   \n",
       "12  Ichikawa City Zoo, Japan, 〒272-0801 Chiba Pref...   \n",
       "13  Okazaki Hoshojicho, Sakyo Ward, Kyoto, Kyoto P...   \n",
       "14  2291-1 Seihicho Nakayamago, Saikai, Nagasaki P...   \n",
       "15  1 Chome-2-1 Minamikase, Saiwai-ku, Kawasaki-sh...   \n",
       "16  5846 Tokuyama, Shunan, Yamaguchi Prefecture 74...   \n",
       "17  Japan, 〒064-0959 Hokkaido, Sapporo, Chuo Ward,...   \n",
       "18  280番地 Minamotocho, Wakaba Ward, Chiba, Chiba P...   \n",
       "\n",
       "                                 en.location  \\\n",
       "10                              Jiulongpo Qu   \n",
       "12                Ichikawa, Chiba Prefecture   \n",
       "13  Kyoto City, Kyoto Prefecture, Sakyo Ward   \n",
       "14                       Nagasaki Prefecture   \n",
       "15             Kawasaki, Kanagawa Prefecture   \n",
       "16              Shūnan, Yamaguchi Prefecture   \n",
       "17                         Sapporo, Hokkaido   \n",
       "18                                     Chiba   \n",
       "\n",
       "                                 map  \\\n",
       "10  https://goo.gl/maps/rsck5UV8B552   \n",
       "12  https://goo.gl/maps/WSyNu7HFhH42   \n",
       "13  https://goo.gl/maps/BzPvCJ64eiB2   \n",
       "14   https://goo.gl/maps/L1wXjRmYYeo   \n",
       "15   https://goo.gl/maps/kfMhVjS52Gs   \n",
       "16   https://goo.gl/maps/bMAGo54PQxq   \n",
       "17   https://goo.gl/maps/EY3uZRXNWNr   \n",
       "18   https://goo.gl/maps/14c7BwdSTkr   \n",
       "\n",
       "                                              website  latitude  longitude  \n",
       "10                               http://www.cqzoo.com       0.0        0.0  \n",
       "12      http://www.city.ichikawa.lg.jp/zoo/index.html       0.0        0.0  \n",
       "13                     http://www5.city.kyoto.jp/zoo/       0.0        0.0  \n",
       "14                           http://www.biopark.co.jp       0.0        0.0  \n",
       "15  http://www.city.kawasaki.jp/saiwai/page/000004...       0.0        0.0  \n",
       "16             http://www.city.shunan.lg.jp/site/zoo/       0.0        0.0  \n",
       "17          http://www.city.sapporo.jp/zoo/index.html       0.0        0.0  \n",
       "18                     https://www.city.chiba.jp/zoo/       0.0        0.0  "
      ]
     },
     "execution_count": 50,
     "metadata": {},
     "output_type": "execute_result"
    }
   ],
   "source": [
    "# Check the zoo without coordinates\n",
    "zoo_short_df[zoo_short_df['latitude'] == 0]"
   ]
  },
  {
   "cell_type": "markdown",
   "metadata": {},
   "source": [
    "Easiest way would be filling the gaps by hands."
   ]
  },
  {
   "cell_type": "code",
   "execution_count": 53,
   "metadata": {},
   "outputs": [],
   "source": [
    "# Manually add coordinates for 8 missing zoos\n",
    "zoo_short_df.iloc[10,6], zoo_short_df.iloc[10,7] = 29.503557,106.5037493\n",
    "zoo_short_df.iloc[12,6], zoo_short_df.iloc[12,7] = 35.7642063,139.9638014\n",
    "zoo_short_df.iloc[13,6], zoo_short_df.iloc[13,7] = 35.0126853,135.7839226\n",
    "zoo_short_df.iloc[14,6], zoo_short_df.iloc[14,7] = 32.988408,129.7810003\n",
    "zoo_short_df.iloc[15,6], zoo_short_df.iloc[15,7] = 35.5495511,139.6631391\n",
    "zoo_short_df.iloc[16,6], zoo_short_df.iloc[16,7] = 34.0623441,131.8139387\n",
    "zoo_short_df.iloc[17,6], zoo_short_df.iloc[17,7] = 43.0514641,141.3056561\n",
    "zoo_short_df.iloc[18,6], zoo_short_df.iloc[18,7] = 35.6451063,140.1243959"
   ]
  },
  {
   "cell_type": "code",
   "execution_count": 54,
   "metadata": {},
   "outputs": [
    {
     "data": {
      "text/html": [
       "<div>\n",
       "<style scoped>\n",
       "    .dataframe tbody tr th:only-of-type {\n",
       "        vertical-align: middle;\n",
       "    }\n",
       "\n",
       "    .dataframe tbody tr th {\n",
       "        vertical-align: top;\n",
       "    }\n",
       "\n",
       "    .dataframe thead th {\n",
       "        text-align: right;\n",
       "    }\n",
       "</style>\n",
       "<table border=\"1\" class=\"dataframe\">\n",
       "  <thead>\n",
       "    <tr style=\"text-align: right;\">\n",
       "      <th></th>\n",
       "      <th>_id</th>\n",
       "      <th>en.name</th>\n",
       "      <th>en.address</th>\n",
       "      <th>en.location</th>\n",
       "      <th>map</th>\n",
       "      <th>website</th>\n",
       "      <th>latitude</th>\n",
       "      <th>longitude</th>\n",
       "    </tr>\n",
       "  </thead>\n",
       "  <tbody>\n",
       "  </tbody>\n",
       "</table>\n",
       "</div>"
      ],
      "text/plain": [
       "Empty DataFrame\n",
       "Columns: [_id, en.name, en.address, en.location, map, website, latitude, longitude]\n",
       "Index: []"
      ]
     },
     "execution_count": 54,
     "metadata": {},
     "output_type": "execute_result"
    }
   ],
   "source": [
    "# Check the zoo without coordinates\n",
    "zoo_short_df[zoo_short_df['latitude'] == 0]"
   ]
  },
  {
   "cell_type": "markdown",
   "metadata": {},
   "source": [
    "Just in case, we store the dataframe with coordinates to a csv file 'red_panda_zoos.csv' which you can find in the same repository."
   ]
  },
  {
   "cell_type": "code",
   "execution_count": 55,
   "metadata": {},
   "outputs": [],
   "source": [
    "zoo_short_df.to_csv('red_panda_zoos.csv', index=False)"
   ]
  },
  {
   "cell_type": "markdown",
   "metadata": {},
   "source": [
    "Now, everything is ready for mapping results."
   ]
  },
  {
   "cell_type": "markdown",
   "metadata": {},
   "source": [
    "### 3.4. Mapping"
   ]
  },
  {
   "cell_type": "markdown",
   "metadata": {},
   "source": [
    "Plot the map:"
   ]
  },
  {
   "cell_type": "code",
   "execution_count": 56,
   "metadata": {},
   "outputs": [
    {
     "data": {
      "text/html": [
       "<div style=\"width:100%;\"><div style=\"position:relative;width:100%;height:0;padding-bottom:60%;\"><iframe src=\"data:text/html;charset=utf-8;base64,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\" style=\"position:absolute;width:100%;height:100%;left:0;top:0;border:none !important;\" allowfullscreen webkitallowfullscreen mozallowfullscreen></iframe></div></div>"
      ],
      "text/plain": [
       "<folium.folium.Map at 0x10673210>"
      ]
     },
     "execution_count": 56,
     "metadata": {},
     "output_type": "execute_result"
    }
   ],
   "source": [
    "panda_zoos_map = folium.Map(location=[35,0], zoom_start=2.4)\n",
    "\n",
    "for lat, lng, name in zip(zoo_short_df['latitude'], zoo_short_df['longitude'], zoo_short_df['en.name']):\n",
    "    label = '{0}'.format(name)\n",
    "    label = folium.Popup(label, parse_html=True)\n",
    "    folium.CircleMarker(\n",
    "        [lat, lng],\n",
    "        radius=5,\n",
    "        popup=label,\n",
    "        color='blue',\n",
    "        fill=True,\n",
    "        fill_color='#3186cc',\n",
    "        fill_opacity=0.7,\n",
    "        ).add_to(panda_zoos_map)\n",
    "    \n",
    "panda_zoos_map"
   ]
  },
  {
   "cell_type": "markdown",
   "metadata": {},
   "source": [
    "## 4. Results"
   ]
  },
  {
   "cell_type": "markdown",
   "metadata": {},
   "source": [
    "What do we see on the map? Our initial assumption fails. Zoos in the database are spread unevenly. There are 2 major clusters in the US, and Japan. We should increase the coverage. There are a lot of red pandas in Europe, Australia. It is really easy to retrieve and append all relevant information to the database.  "
   ]
  },
  {
   "cell_type": "code",
   "execution_count": null,
   "metadata": {},
   "outputs": [],
   "source": []
  }
 ],
 "metadata": {
  "kernelspec": {
   "display_name": "Python 3",
   "language": "python",
   "name": "python3"
  },
  "language_info": {
   "codemirror_mode": {
    "name": "ipython",
    "version": 3
   },
   "file_extension": ".py",
   "mimetype": "text/x-python",
   "name": "python",
   "nbconvert_exporter": "python",
   "pygments_lexer": "ipython3",
   "version": "3.6.5"
  }
 },
 "nbformat": 4,
 "nbformat_minor": 2
}
