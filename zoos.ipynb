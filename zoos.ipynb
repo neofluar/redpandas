{
 "cells": [
  {
   "cell_type": "markdown",
   "metadata": {},
   "source": [
    "# Red Panda Zoos"
   ]
  },
  {
   "cell_type": "markdown",
   "metadata": {},
   "source": [
    "## 1.Intro"
   ]
  },
  {
   "cell_type": "markdown",
   "metadata": {},
   "source": [
    "According to several sientific reports, there are about 10.000 red pandas in the wild and approx. 2.000 in the zoos around the world. redpandasfinder dot com is a great source of structured information about red pandas living in the zoos. redpandafinder dot com gives an access to a json file that contains information on 496 red pandas and 109 zoos where they live in. "
   ]
  },
  {
   "cell_type": "markdown",
   "metadata": {},
   "source": [
    "These cute furry animals spend days on the tops of rainforest trees eating bamboo and chilling in the shadows. They are absolutely harmless and adorable. They also have fur on the soles of the paws which make them really special. \n",
    "However during the last century the population on red pandas is decreasing significantlly and these days they have been classified as endangered in the IUCN Red List. There is a special surviving programm for this animals with the participation of many countries and many zoos."
   ]
  },
  {
   "cell_type": "markdown",
   "metadata": {},
   "source": [
    "## 2. Task"
   ]
  },
  {
   "cell_type": "markdown",
   "metadata": {},
   "source": [
    "Red pandas are common habitants in zoos in all part of the world. Thus we should expect that the zoos from the json file would be spread evenly at least in the North hemisphere. We will visualize the zoos on the world map and find out whether it is true or not."
   ]
  },
  {
   "cell_type": "markdown",
   "metadata": {},
   "source": [
    "## 3. Methodology"
   ]
  },
  {
   "cell_type": "markdown",
   "metadata": {},
   "source": [
    "Before we get the data and start exploring it, let's download all the dependencies that we need."
   ]
  },
  {
   "cell_type": "code",
   "execution_count": 57,
   "metadata": {},
   "outputs": [],
   "source": [
    "import pandas as pd\n",
    "import json\n",
    "import time\n",
    "import folium\n",
    "import requests\n",
    "import re"
   ]
  },
  {
   "cell_type": "markdown",
   "metadata": {},
   "source": [
    "### 3.1. Analyzing redpanda.json"
   ]
  },
  {
   "cell_type": "code",
   "execution_count": 58,
   "metadata": {},
   "outputs": [],
   "source": [
    "url = 'http://redpandafinder.com/export/redpanda.json'\n",
    "result = requests.get('http://redpandafinder.com/export/redpanda.json')\n",
    "result.raise_for_status()"
   ]
  },
  {
   "cell_type": "code",
   "execution_count": 59,
   "metadata": {},
   "outputs": [
    {
     "name": "stdout",
     "output_type": "stream",
     "text": [
      "['_photo', '_totals', 'edges', 'vertices']\n"
     ]
    }
   ],
   "source": [
    "panda_json = result.json()\n",
    "# Check if the json is OK\n",
    "print([key for key in panda_json]) # should be ['_photo', '_totals', 'edges', 'vertices']"
   ]
  },
  {
   "cell_type": "markdown",
   "metadata": {},
   "source": [
    "Information we intrested in is stored within the 'vertices' key. Each vertex is either a red panda or a zoo. Each red panda vertex has a positive id number and each zoo has a negative id. For example:"
   ]
  },
  {
   "cell_type": "code",
   "execution_count": 60,
   "metadata": {},
   "outputs": [
    {
     "data": {
      "text/plain": [
       "{'_id': '-98',\n",
       " 'en.address': 'República de la India, C1425 CABA, Argentina',\n",
       " 'en.location': 'Buenos Aires, Argentina',\n",
       " 'en.name': 'Buenos Aires Eco-Park',\n",
       " 'es.address': 'República de la India, C1425 CABA, Argentina',\n",
       " 'es.location': 'Buenos Aires, Argentina',\n",
       " 'es.name': 'Ecoparque Interactivo de Buenos Aires',\n",
       " 'flag': 'Argentina',\n",
       " 'language.order': 'es, en, jp',\n",
       " 'map': 'https://goo.gl/maps/LtEhMY2XMbJ2',\n",
       " 'website': 'http://www.buenosaires.gob.ar/ecoparque'}"
      ]
     },
     "execution_count": 60,
     "metadata": {},
     "output_type": "execute_result"
    }
   ],
   "source": [
    "# A zoo vertex\n",
    "panda_json['vertices'][0]"
   ]
  },
  {
   "cell_type": "code",
   "execution_count": 61,
   "metadata": {},
   "outputs": [
    {
     "data": {
      "text/plain": [
       "{'_id': '486',\n",
       " 'birthday': '2017/7/23',\n",
       " 'en.name': 'Paprika',\n",
       " 'gender': 'Female',\n",
       " 'jp.name': 'パプリカ',\n",
       " 'language.order': 'en, jp',\n",
       " 'species': '2'}"
      ]
     },
     "execution_count": 61,
     "metadata": {},
     "output_type": "execute_result"
    }
   ],
   "source": [
    "# A red panda vertex\n",
    "panda_json['vertices'][550]"
   ]
  },
  {
   "cell_type": "markdown",
   "metadata": {},
   "source": [
    "Let's count red pandas and zoos to ensure numbers we obtain from redpandafinder dot com: 109 zoos and 496 red pandas."
   ]
  },
  {
   "cell_type": "code",
   "execution_count": 62,
   "metadata": {},
   "outputs": [
    {
     "name": "stdout",
     "output_type": "stream",
     "text": [
      "There are 109 zoos and 496 red pandas in there.\n"
     ]
    }
   ],
   "source": [
    "panda_count, zoo_count = 0,0\n",
    "for vertex in panda_json['vertices']:\n",
    "    if float(vertex['_id']) < 0:\n",
    "        zoo_count += 1\n",
    "    else:\n",
    "        panda_count += 1\n",
    "print('There are {0} zoos and {1} red pandas in there.'.format(zoo_count, panda_count))"
   ]
  },
  {
   "cell_type": "markdown",
   "metadata": {},
   "source": [
    "OK, information is correct."
   ]
  },
  {
   "cell_type": "markdown",
   "metadata": {},
   "source": [
    "### 3.2. Zoo Dataframe"
   ]
  },
  {
   "cell_type": "markdown",
   "metadata": {},
   "source": [
    "Now we are ready to create a DataFrame of zoos for analysing and mapping."
   ]
  },
  {
   "cell_type": "code",
   "execution_count": 63,
   "metadata": {},
   "outputs": [
    {
     "data": {
      "text/html": [
       "<div>\n",
       "<style scoped>\n",
       "    .dataframe tbody tr th:only-of-type {\n",
       "        vertical-align: middle;\n",
       "    }\n",
       "\n",
       "    .dataframe tbody tr th {\n",
       "        vertical-align: top;\n",
       "    }\n",
       "\n",
       "    .dataframe thead th {\n",
       "        text-align: right;\n",
       "    }\n",
       "</style>\n",
       "<table border=\"1\" class=\"dataframe\">\n",
       "  <thead>\n",
       "    <tr style=\"text-align: right;\">\n",
       "      <th></th>\n",
       "      <th>_id</th>\n",
       "      <th>cn.address</th>\n",
       "      <th>cn.location</th>\n",
       "      <th>cn.name</th>\n",
       "      <th>en.address</th>\n",
       "      <th>en.location</th>\n",
       "      <th>en.name</th>\n",
       "      <th>en.othernames</th>\n",
       "      <th>es.address</th>\n",
       "      <th>es.location</th>\n",
       "      <th>...</th>\n",
       "      <th>nl.address</th>\n",
       "      <th>nl.location</th>\n",
       "      <th>nl.name</th>\n",
       "      <th>photo</th>\n",
       "      <th>photo.author</th>\n",
       "      <th>photo.link</th>\n",
       "      <th>th.address</th>\n",
       "      <th>th.location</th>\n",
       "      <th>th.name</th>\n",
       "      <th>website</th>\n",
       "    </tr>\n",
       "  </thead>\n",
       "  <tbody>\n",
       "    <tr>\n",
       "      <th>0</th>\n",
       "      <td>-98</td>\n",
       "      <td>NaN</td>\n",
       "      <td>NaN</td>\n",
       "      <td>NaN</td>\n",
       "      <td>República de la India, C1425 CABA, Argentina</td>\n",
       "      <td>Buenos Aires, Argentina</td>\n",
       "      <td>Buenos Aires Eco-Park</td>\n",
       "      <td>NaN</td>\n",
       "      <td>República de la India, C1425 CABA, Argentina</td>\n",
       "      <td>Buenos Aires, Argentina</td>\n",
       "      <td>...</td>\n",
       "      <td>NaN</td>\n",
       "      <td>NaN</td>\n",
       "      <td>NaN</td>\n",
       "      <td>NaN</td>\n",
       "      <td>NaN</td>\n",
       "      <td>NaN</td>\n",
       "      <td>NaN</td>\n",
       "      <td>NaN</td>\n",
       "      <td>NaN</td>\n",
       "      <td>http://www.buenosaires.gob.ar/ecoparque</td>\n",
       "    </tr>\n",
       "    <tr>\n",
       "      <th>1</th>\n",
       "      <td>-51</td>\n",
       "      <td>NaN</td>\n",
       "      <td>NaN</td>\n",
       "      <td>NaN</td>\n",
       "      <td>210 St. George's Drive NE, Calgary, AB T2E 7V6...</td>\n",
       "      <td>Calgary, Alberta, Canada</td>\n",
       "      <td>Calgary Zoo</td>\n",
       "      <td>NaN</td>\n",
       "      <td>NaN</td>\n",
       "      <td>NaN</td>\n",
       "      <td>...</td>\n",
       "      <td>NaN</td>\n",
       "      <td>NaN</td>\n",
       "      <td>NaN</td>\n",
       "      <td>https://www.instagram.com/p/7q3sBBGtnG/media/?...</td>\n",
       "      <td>thecalgaryzoo</td>\n",
       "      <td>https://www.instagram.com/thecalgaryzoo/</td>\n",
       "      <td>NaN</td>\n",
       "      <td>NaN</td>\n",
       "      <td>NaN</td>\n",
       "      <td>https://www.calgaryzoo.com/</td>\n",
       "    </tr>\n",
       "  </tbody>\n",
       "</table>\n",
       "<p>2 rows × 34 columns</p>\n",
       "</div>"
      ],
      "text/plain": [
       "   _id cn.address cn.location cn.name  \\\n",
       "0  -98        NaN         NaN     NaN   \n",
       "1  -51        NaN         NaN     NaN   \n",
       "\n",
       "                                          en.address  \\\n",
       "0       República de la India, C1425 CABA, Argentina   \n",
       "1  210 St. George's Drive NE, Calgary, AB T2E 7V6...   \n",
       "\n",
       "                en.location                en.name en.othernames  \\\n",
       "0   Buenos Aires, Argentina  Buenos Aires Eco-Park           NaN   \n",
       "1  Calgary, Alberta, Canada            Calgary Zoo           NaN   \n",
       "\n",
       "                                     es.address              es.location  \\\n",
       "0  República de la India, C1425 CABA, Argentina  Buenos Aires, Argentina   \n",
       "1                                           NaN                      NaN   \n",
       "\n",
       "                    ...                    nl.address nl.location nl.name  \\\n",
       "0                   ...                           NaN         NaN     NaN   \n",
       "1                   ...                           NaN         NaN     NaN   \n",
       "\n",
       "                                               photo   photo.author  \\\n",
       "0                                                NaN            NaN   \n",
       "1  https://www.instagram.com/p/7q3sBBGtnG/media/?...  thecalgaryzoo   \n",
       "\n",
       "                                 photo.link th.address th.location th.name  \\\n",
       "0                                       NaN        NaN         NaN     NaN   \n",
       "1  https://www.instagram.com/thecalgaryzoo/        NaN         NaN     NaN   \n",
       "\n",
       "                                   website  \n",
       "0  http://www.buenosaires.gob.ar/ecoparque  \n",
       "1              https://www.calgaryzoo.com/  \n",
       "\n",
       "[2 rows x 34 columns]"
      ]
     },
     "execution_count": 63,
     "metadata": {},
     "output_type": "execute_result"
    }
   ],
   "source": [
    "zoo_df = pd.DataFrame(panda_json['vertices'][:zoo_count])\n",
    "zoo_df.head(2)"
   ]
  },
  {
   "cell_type": "code",
   "execution_count": 64,
   "metadata": {},
   "outputs": [
    {
     "data": {
      "text/plain": [
       "(109, 34)"
      ]
     },
     "execution_count": 64,
     "metadata": {},
     "output_type": "execute_result"
    }
   ],
   "source": [
    "# Make sure the size\n",
    "zoo_df.shape"
   ]
  },
  {
   "cell_type": "code",
   "execution_count": 65,
   "metadata": {},
   "outputs": [
    {
     "data": {
      "text/plain": [
       "Index(['_id', 'cn.address', 'cn.location', 'cn.name', 'en.address',\n",
       "       'en.location', 'en.name', 'en.othernames', 'es.address', 'es.location',\n",
       "       'es.name', 'flag', 'fr.address', 'fr.location', 'fr.name', 'jp.address',\n",
       "       'jp.location', 'jp.name', 'jp.othernames', 'kr.address', 'kr.location',\n",
       "       'kr.name', 'language.order', 'map', 'nl.address', 'nl.location',\n",
       "       'nl.name', 'photo', 'photo.author', 'photo.link', 'th.address',\n",
       "       'th.location', 'th.name', 'website'],\n",
       "      dtype='object')"
      ]
     },
     "execution_count": 65,
     "metadata": {},
     "output_type": "execute_result"
    }
   ],
   "source": [
    "# Check the columns... Er, do we need all of these?\n",
    "zoo_df.columns"
   ]
  },
  {
   "cell_type": "markdown",
   "metadata": {},
   "source": [
    "For the task in hand we will need only a few columns. Let's drop usless ones."
   ]
  },
  {
   "cell_type": "code",
   "execution_count": 66,
   "metadata": {},
   "outputs": [
    {
     "data": {
      "text/html": [
       "<div>\n",
       "<style scoped>\n",
       "    .dataframe tbody tr th:only-of-type {\n",
       "        vertical-align: middle;\n",
       "    }\n",
       "\n",
       "    .dataframe tbody tr th {\n",
       "        vertical-align: top;\n",
       "    }\n",
       "\n",
       "    .dataframe thead th {\n",
       "        text-align: right;\n",
       "    }\n",
       "</style>\n",
       "<table border=\"1\" class=\"dataframe\">\n",
       "  <thead>\n",
       "    <tr style=\"text-align: right;\">\n",
       "      <th></th>\n",
       "      <th>_id</th>\n",
       "      <th>en.name</th>\n",
       "      <th>en.address</th>\n",
       "      <th>en.location</th>\n",
       "      <th>map</th>\n",
       "      <th>website</th>\n",
       "    </tr>\n",
       "  </thead>\n",
       "  <tbody>\n",
       "    <tr>\n",
       "      <th>0</th>\n",
       "      <td>-98</td>\n",
       "      <td>Buenos Aires Eco-Park</td>\n",
       "      <td>República de la India, C1425 CABA, Argentina</td>\n",
       "      <td>Buenos Aires, Argentina</td>\n",
       "      <td>https://goo.gl/maps/LtEhMY2XMbJ2</td>\n",
       "      <td>http://www.buenosaires.gob.ar/ecoparque</td>\n",
       "    </tr>\n",
       "    <tr>\n",
       "      <th>1</th>\n",
       "      <td>-51</td>\n",
       "      <td>Calgary Zoo</td>\n",
       "      <td>210 St. George's Drive NE, Calgary, AB T2E 7V6...</td>\n",
       "      <td>Calgary, Alberta, Canada</td>\n",
       "      <td>https://goo.gl/maps/gXaumYRHucJ2</td>\n",
       "      <td>https://www.calgaryzoo.com/</td>\n",
       "    </tr>\n",
       "  </tbody>\n",
       "</table>\n",
       "</div>"
      ],
      "text/plain": [
       "   _id                en.name  \\\n",
       "0  -98  Buenos Aires Eco-Park   \n",
       "1  -51            Calgary Zoo   \n",
       "\n",
       "                                          en.address  \\\n",
       "0       República de la India, C1425 CABA, Argentina   \n",
       "1  210 St. George's Drive NE, Calgary, AB T2E 7V6...   \n",
       "\n",
       "                en.location                               map  \\\n",
       "0   Buenos Aires, Argentina  https://goo.gl/maps/LtEhMY2XMbJ2   \n",
       "1  Calgary, Alberta, Canada  https://goo.gl/maps/gXaumYRHucJ2   \n",
       "\n",
       "                                   website  \n",
       "0  http://www.buenosaires.gob.ar/ecoparque  \n",
       "1              https://www.calgaryzoo.com/  "
      ]
     },
     "execution_count": 66,
     "metadata": {},
     "output_type": "execute_result"
    }
   ],
   "source": [
    "# Nope, we only need a few\n",
    "zoo_short_df = zoo_df[['_id','en.name','en.address','en.location','map','website']].copy()\n",
    "zoo_short_df.head(2)"
   ]
  },
  {
   "cell_type": "code",
   "execution_count": 67,
   "metadata": {},
   "outputs": [
    {
     "data": {
      "text/plain": [
       "(109, 6)"
      ]
     },
     "execution_count": 67,
     "metadata": {},
     "output_type": "execute_result"
    }
   ],
   "source": [
    "zoo_short_df.shape"
   ]
  },
  {
   "cell_type": "markdown",
   "metadata": {},
   "source": [
    "For the future purposes we append columns for geographic coordinates and fill them with zeros."
   ]
  },
  {
   "cell_type": "code",
   "execution_count": 68,
   "metadata": {},
   "outputs": [
    {
     "data": {
      "text/html": [
       "<div>\n",
       "<style scoped>\n",
       "    .dataframe tbody tr th:only-of-type {\n",
       "        vertical-align: middle;\n",
       "    }\n",
       "\n",
       "    .dataframe tbody tr th {\n",
       "        vertical-align: top;\n",
       "    }\n",
       "\n",
       "    .dataframe thead th {\n",
       "        text-align: right;\n",
       "    }\n",
       "</style>\n",
       "<table border=\"1\" class=\"dataframe\">\n",
       "  <thead>\n",
       "    <tr style=\"text-align: right;\">\n",
       "      <th></th>\n",
       "      <th>_id</th>\n",
       "      <th>en.name</th>\n",
       "      <th>en.address</th>\n",
       "      <th>en.location</th>\n",
       "      <th>map</th>\n",
       "      <th>website</th>\n",
       "      <th>latitude</th>\n",
       "      <th>longitude</th>\n",
       "    </tr>\n",
       "  </thead>\n",
       "  <tbody>\n",
       "    <tr>\n",
       "      <th>0</th>\n",
       "      <td>-98</td>\n",
       "      <td>Buenos Aires Eco-Park</td>\n",
       "      <td>República de la India, C1425 CABA, Argentina</td>\n",
       "      <td>Buenos Aires, Argentina</td>\n",
       "      <td>https://goo.gl/maps/LtEhMY2XMbJ2</td>\n",
       "      <td>http://www.buenosaires.gob.ar/ecoparque</td>\n",
       "      <td>0.0</td>\n",
       "      <td>0.0</td>\n",
       "    </tr>\n",
       "    <tr>\n",
       "      <th>1</th>\n",
       "      <td>-51</td>\n",
       "      <td>Calgary Zoo</td>\n",
       "      <td>210 St. George's Drive NE, Calgary, AB T2E 7V6...</td>\n",
       "      <td>Calgary, Alberta, Canada</td>\n",
       "      <td>https://goo.gl/maps/gXaumYRHucJ2</td>\n",
       "      <td>https://www.calgaryzoo.com/</td>\n",
       "      <td>0.0</td>\n",
       "      <td>0.0</td>\n",
       "    </tr>\n",
       "  </tbody>\n",
       "</table>\n",
       "</div>"
      ],
      "text/plain": [
       "   _id                en.name  \\\n",
       "0  -98  Buenos Aires Eco-Park   \n",
       "1  -51            Calgary Zoo   \n",
       "\n",
       "                                          en.address  \\\n",
       "0       República de la India, C1425 CABA, Argentina   \n",
       "1  210 St. George's Drive NE, Calgary, AB T2E 7V6...   \n",
       "\n",
       "                en.location                               map  \\\n",
       "0   Buenos Aires, Argentina  https://goo.gl/maps/LtEhMY2XMbJ2   \n",
       "1  Calgary, Alberta, Canada  https://goo.gl/maps/gXaumYRHucJ2   \n",
       "\n",
       "                                   website  latitude  longitude  \n",
       "0  http://www.buenosaires.gob.ar/ecoparque       0.0        0.0  \n",
       "1              https://www.calgaryzoo.com/       0.0        0.0  "
      ]
     },
     "execution_count": 68,
     "metadata": {},
     "output_type": "execute_result"
    }
   ],
   "source": [
    "zoo_short_df['latitude'] = 0.\n",
    "zoo_short_df['longitude'] = 0.\n",
    "zoo_short_df.head(2)"
   ]
  },
  {
   "cell_type": "markdown",
   "metadata": {},
   "source": [
    "Now everything is ready to collect geographical coordinates of each zoo in the dataframe and map results."
   ]
  },
  {
   "cell_type": "markdown",
   "metadata": {},
   "source": [
    "## 3.3. Collecting Coordinates"
   ]
  },
  {
   "cell_type": "markdown",
   "metadata": {},
   "source": [
    "Free geospatial servises returning geographic coordinates for an address in question are usually unreliable. What if the task can be solved easier, though not so elegant. The 'map' field in the zoo dataframe contains a short link that redirects to GoogleMap.\n",
    "Like _https://goo.gl/maps/LtEhMY2XMbJ2_. If you click it, after a while you will find youself on the page with different address: _https://www.google.com/maps/place/Proyecto+EcoParque+Interactivo/@-34.5781333,-58.4853221,12z/data=!4m5!3m4!1s0x95bcb57835e44c59:0x9e74dd4b6cbb6d4!8m2!3d-34.5781533!4d-58.415282_.  \n",
    "Do you see? **.../@-34.5781333,-58.4853221,...** Bingo! That new link already contains the coordinates. So the solution could be as following:  \n",
    "1. Get a response object by applying _requests.get()_ method to a short link in the 'map' field.  \n",
    "2. Apply a regular expression to the _url_ attribute of the response object.  \n",
    "3. Convert coordinates to float numbers and fill the corresponding fields in the zoo dataframe.\n",
    "4. Repeat for each of 109 zoos."
   ]
  },
  {
   "cell_type": "markdown",
   "metadata": {},
   "source": [
    "Sounds easy. But is it? Doing that I found that even Google patience has its limits. After a while he discovered a 'suspicious' activity from my computer and stoped supplying me with response objects, giving me the 503-th error. Funny enough, the error message contained an url I needed but in a slightly different format. Something like: _https://www.google.com/.../%40-34.5781333,-58.4853221,12z..._ So the only difference was that '@' were replaced by '%40'. We only need another regular expression to handle it.  Let's do it keeping an eye on zoos that are left without coordinates."
   ]
  },
  {
   "cell_type": "code",
   "execution_count": 69,
   "metadata": {},
   "outputs": [
    {
     "name": "stdout",
     "output_type": "stream",
     "text": [
      "No coordinates for:\n",
      "Chonquing Zoo\n",
      "Ichikawa Zoological & Botanical Gardens\n",
      "Kyoto City Zoo\n",
      "Nagasaki Bio Park\n",
      "Yumemigasaki Zoological Park\n",
      "Tokuyama Zoo\n",
      "Sapporo Maruyama Zoo\n",
      "Chiba Zoological Park\n"
     ]
    }
   ],
   "source": [
    "coordinate_regex = re.compile(r'@(\\S+)(,)') # if success\n",
    "error_regex = re.compile(r'%40(\\S+)(,)') # otherwise\n",
    "missing_zoos = []\n",
    "print('No coordinates for:')\n",
    "for i in range(zoo_count):\n",
    "    try:\n",
    "        result = requests.get(zoo_short_df.iloc[i,4])\n",
    "        result.raise_for_status()\n",
    "    except:\n",
    "        mo = error_regex.search(result.url)\n",
    "        continue\n",
    "    else:\n",
    "        mo = coordinate_regex.search(result.url)\n",
    "    finally:\n",
    "        if mo:\n",
    "            coordinates = mo.groups()[0].split(',')\n",
    "            coordinates = [float(coor) for coor in coordinates]\n",
    "            zoo_short_df.iloc[i,6], zoo_short_df.iloc[i,7] = coordinates\n",
    "        else:\n",
    "            missing_zoos.append(zoo_short_df.iloc[i,0])\n",
    "            print(zoo_short_df.iloc[i,1])\n",
    "        time.sleep(3)  # I am not a barbarian after all and have some modesty..."
   ]
  },
  {
   "cell_type": "markdown",
   "metadata": {},
   "source": [
    "We collected 101 coordinate pairs and only for 8 zoos requests failed. What should we do next?"
   ]
  },
  {
   "cell_type": "code",
   "execution_count": 70,
   "metadata": {},
   "outputs": [
    {
     "data": {
      "text/html": [
       "<div>\n",
       "<style scoped>\n",
       "    .dataframe tbody tr th:only-of-type {\n",
       "        vertical-align: middle;\n",
       "    }\n",
       "\n",
       "    .dataframe tbody tr th {\n",
       "        vertical-align: top;\n",
       "    }\n",
       "\n",
       "    .dataframe thead th {\n",
       "        text-align: right;\n",
       "    }\n",
       "</style>\n",
       "<table border=\"1\" class=\"dataframe\">\n",
       "  <thead>\n",
       "    <tr style=\"text-align: right;\">\n",
       "      <th></th>\n",
       "      <th>_id</th>\n",
       "      <th>en.name</th>\n",
       "      <th>en.address</th>\n",
       "      <th>en.location</th>\n",
       "      <th>map</th>\n",
       "      <th>website</th>\n",
       "      <th>latitude</th>\n",
       "      <th>longitude</th>\n",
       "    </tr>\n",
       "  </thead>\n",
       "  <tbody>\n",
       "    <tr>\n",
       "      <th>10</th>\n",
       "      <td>-5</td>\n",
       "      <td>Chonquing Zoo</td>\n",
       "      <td>Chongqing Zoo, Jiulongpo Qu, China, 400080</td>\n",
       "      <td>Jiulongpo Qu</td>\n",
       "      <td>https://goo.gl/maps/rsck5UV8B552</td>\n",
       "      <td>http://www.cqzoo.com</td>\n",
       "      <td>0.0</td>\n",
       "      <td>0.0</td>\n",
       "    </tr>\n",
       "    <tr>\n",
       "      <th>12</th>\n",
       "      <td>-1</td>\n",
       "      <td>Ichikawa Zoological &amp; Botanical Gardens</td>\n",
       "      <td>Ichikawa City Zoo, Japan, 〒272-0801 Chiba Pref...</td>\n",
       "      <td>Ichikawa, Chiba Prefecture</td>\n",
       "      <td>https://goo.gl/maps/WSyNu7HFhH42</td>\n",
       "      <td>http://www.city.ichikawa.lg.jp/zoo/index.html</td>\n",
       "      <td>0.0</td>\n",
       "      <td>0.0</td>\n",
       "    </tr>\n",
       "    <tr>\n",
       "      <th>13</th>\n",
       "      <td>-2</td>\n",
       "      <td>Kyoto City Zoo</td>\n",
       "      <td>Okazaki Hoshojicho, Sakyo Ward, Kyoto, Kyoto P...</td>\n",
       "      <td>Kyoto City, Kyoto Prefecture, Sakyo Ward</td>\n",
       "      <td>https://goo.gl/maps/BzPvCJ64eiB2</td>\n",
       "      <td>http://www5.city.kyoto.jp/zoo/</td>\n",
       "      <td>0.0</td>\n",
       "      <td>0.0</td>\n",
       "    </tr>\n",
       "    <tr>\n",
       "      <th>14</th>\n",
       "      <td>-3</td>\n",
       "      <td>Nagasaki Bio Park</td>\n",
       "      <td>2291-1 Seihicho Nakayamago, Saikai, Nagasaki P...</td>\n",
       "      <td>Nagasaki Prefecture</td>\n",
       "      <td>https://goo.gl/maps/L1wXjRmYYeo</td>\n",
       "      <td>http://www.biopark.co.jp</td>\n",
       "      <td>0.0</td>\n",
       "      <td>0.0</td>\n",
       "    </tr>\n",
       "    <tr>\n",
       "      <th>15</th>\n",
       "      <td>-4</td>\n",
       "      <td>Yumemigasaki Zoological Park</td>\n",
       "      <td>1 Chome-2-1 Minamikase, Saiwai-ku, Kawasaki-sh...</td>\n",
       "      <td>Kawasaki, Kanagawa Prefecture</td>\n",
       "      <td>https://goo.gl/maps/kfMhVjS52Gs</td>\n",
       "      <td>http://www.city.kawasaki.jp/saiwai/page/000004...</td>\n",
       "      <td>0.0</td>\n",
       "      <td>0.0</td>\n",
       "    </tr>\n",
       "    <tr>\n",
       "      <th>16</th>\n",
       "      <td>-6</td>\n",
       "      <td>Tokuyama Zoo</td>\n",
       "      <td>5846 Tokuyama, Shunan, Yamaguchi Prefecture 74...</td>\n",
       "      <td>Shūnan, Yamaguchi Prefecture</td>\n",
       "      <td>https://goo.gl/maps/bMAGo54PQxq</td>\n",
       "      <td>http://www.city.shunan.lg.jp/site/zoo/</td>\n",
       "      <td>0.0</td>\n",
       "      <td>0.0</td>\n",
       "    </tr>\n",
       "    <tr>\n",
       "      <th>17</th>\n",
       "      <td>-7</td>\n",
       "      <td>Sapporo Maruyama Zoo</td>\n",
       "      <td>Japan, 〒064-0959 Hokkaido, Sapporo, Chuo Ward,...</td>\n",
       "      <td>Sapporo, Hokkaido</td>\n",
       "      <td>https://goo.gl/maps/EY3uZRXNWNr</td>\n",
       "      <td>http://www.city.sapporo.jp/zoo/index.html</td>\n",
       "      <td>0.0</td>\n",
       "      <td>0.0</td>\n",
       "    </tr>\n",
       "    <tr>\n",
       "      <th>18</th>\n",
       "      <td>-8</td>\n",
       "      <td>Chiba Zoological Park</td>\n",
       "      <td>280番地 Minamotocho, Wakaba Ward, Chiba, Chiba P...</td>\n",
       "      <td>Chiba</td>\n",
       "      <td>https://goo.gl/maps/14c7BwdSTkr</td>\n",
       "      <td>https://www.city.chiba.jp/zoo/</td>\n",
       "      <td>0.0</td>\n",
       "      <td>0.0</td>\n",
       "    </tr>\n",
       "  </tbody>\n",
       "</table>\n",
       "</div>"
      ],
      "text/plain": [
       "   _id                                  en.name  \\\n",
       "10  -5                            Chonquing Zoo   \n",
       "12  -1  Ichikawa Zoological & Botanical Gardens   \n",
       "13  -2                           Kyoto City Zoo   \n",
       "14  -3                        Nagasaki Bio Park   \n",
       "15  -4             Yumemigasaki Zoological Park   \n",
       "16  -6                             Tokuyama Zoo   \n",
       "17  -7                     Sapporo Maruyama Zoo   \n",
       "18  -8                    Chiba Zoological Park   \n",
       "\n",
       "                                           en.address  \\\n",
       "10         Chongqing Zoo, Jiulongpo Qu, China, 400080   \n",
       "12  Ichikawa City Zoo, Japan, 〒272-0801 Chiba Pref...   \n",
       "13  Okazaki Hoshojicho, Sakyo Ward, Kyoto, Kyoto P...   \n",
       "14  2291-1 Seihicho Nakayamago, Saikai, Nagasaki P...   \n",
       "15  1 Chome-2-1 Minamikase, Saiwai-ku, Kawasaki-sh...   \n",
       "16  5846 Tokuyama, Shunan, Yamaguchi Prefecture 74...   \n",
       "17  Japan, 〒064-0959 Hokkaido, Sapporo, Chuo Ward,...   \n",
       "18  280番地 Minamotocho, Wakaba Ward, Chiba, Chiba P...   \n",
       "\n",
       "                                 en.location  \\\n",
       "10                              Jiulongpo Qu   \n",
       "12                Ichikawa, Chiba Prefecture   \n",
       "13  Kyoto City, Kyoto Prefecture, Sakyo Ward   \n",
       "14                       Nagasaki Prefecture   \n",
       "15             Kawasaki, Kanagawa Prefecture   \n",
       "16              Shūnan, Yamaguchi Prefecture   \n",
       "17                         Sapporo, Hokkaido   \n",
       "18                                     Chiba   \n",
       "\n",
       "                                 map  \\\n",
       "10  https://goo.gl/maps/rsck5UV8B552   \n",
       "12  https://goo.gl/maps/WSyNu7HFhH42   \n",
       "13  https://goo.gl/maps/BzPvCJ64eiB2   \n",
       "14   https://goo.gl/maps/L1wXjRmYYeo   \n",
       "15   https://goo.gl/maps/kfMhVjS52Gs   \n",
       "16   https://goo.gl/maps/bMAGo54PQxq   \n",
       "17   https://goo.gl/maps/EY3uZRXNWNr   \n",
       "18   https://goo.gl/maps/14c7BwdSTkr   \n",
       "\n",
       "                                              website  latitude  longitude  \n",
       "10                               http://www.cqzoo.com       0.0        0.0  \n",
       "12      http://www.city.ichikawa.lg.jp/zoo/index.html       0.0        0.0  \n",
       "13                     http://www5.city.kyoto.jp/zoo/       0.0        0.0  \n",
       "14                           http://www.biopark.co.jp       0.0        0.0  \n",
       "15  http://www.city.kawasaki.jp/saiwai/page/000004...       0.0        0.0  \n",
       "16             http://www.city.shunan.lg.jp/site/zoo/       0.0        0.0  \n",
       "17          http://www.city.sapporo.jp/zoo/index.html       0.0        0.0  \n",
       "18                     https://www.city.chiba.jp/zoo/       0.0        0.0  "
      ]
     },
     "execution_count": 70,
     "metadata": {},
     "output_type": "execute_result"
    }
   ],
   "source": [
    "# Check the zoo without coordinates\n",
    "zoo_short_df[zoo_short_df['latitude'] == 0]"
   ]
  },
  {
   "cell_type": "markdown",
   "metadata": {},
   "source": [
    "Easiest way would be filling the gaps by hands."
   ]
  },
  {
   "cell_type": "code",
   "execution_count": 71,
   "metadata": {},
   "outputs": [],
   "source": [
    "# Manually add coordinates for 8 missing zoos\n",
    "zoo_short_df.iloc[10,6], zoo_short_df.iloc[10,7] = 29.503557,106.5037493\n",
    "zoo_short_df.iloc[12,6], zoo_short_df.iloc[12,7] = 35.7642063,139.9638014\n",
    "zoo_short_df.iloc[13,6], zoo_short_df.iloc[13,7] = 35.0126853,135.7839226\n",
    "zoo_short_df.iloc[14,6], zoo_short_df.iloc[14,7] = 32.988408,129.7810003\n",
    "zoo_short_df.iloc[15,6], zoo_short_df.iloc[15,7] = 35.5495511,139.6631391\n",
    "zoo_short_df.iloc[16,6], zoo_short_df.iloc[16,7] = 34.0623441,131.8139387\n",
    "zoo_short_df.iloc[17,6], zoo_short_df.iloc[17,7] = 43.0514641,141.3056561\n",
    "zoo_short_df.iloc[18,6], zoo_short_df.iloc[18,7] = 35.6451063,140.1243959"
   ]
  },
  {
   "cell_type": "code",
   "execution_count": 72,
   "metadata": {},
   "outputs": [
    {
     "data": {
      "text/html": [
       "<div>\n",
       "<style scoped>\n",
       "    .dataframe tbody tr th:only-of-type {\n",
       "        vertical-align: middle;\n",
       "    }\n",
       "\n",
       "    .dataframe tbody tr th {\n",
       "        vertical-align: top;\n",
       "    }\n",
       "\n",
       "    .dataframe thead th {\n",
       "        text-align: right;\n",
       "    }\n",
       "</style>\n",
       "<table border=\"1\" class=\"dataframe\">\n",
       "  <thead>\n",
       "    <tr style=\"text-align: right;\">\n",
       "      <th></th>\n",
       "      <th>_id</th>\n",
       "      <th>en.name</th>\n",
       "      <th>en.address</th>\n",
       "      <th>en.location</th>\n",
       "      <th>map</th>\n",
       "      <th>website</th>\n",
       "      <th>latitude</th>\n",
       "      <th>longitude</th>\n",
       "    </tr>\n",
       "  </thead>\n",
       "  <tbody>\n",
       "  </tbody>\n",
       "</table>\n",
       "</div>"
      ],
      "text/plain": [
       "Empty DataFrame\n",
       "Columns: [_id, en.name, en.address, en.location, map, website, latitude, longitude]\n",
       "Index: []"
      ]
     },
     "execution_count": 72,
     "metadata": {},
     "output_type": "execute_result"
    }
   ],
   "source": [
    "# Check the zoo without coordinates\n",
    "zoo_short_df[zoo_short_df['latitude'] == 0]"
   ]
  },
  {
   "cell_type": "markdown",
   "metadata": {},
   "source": [
    "Just in case, we store the dataframe with coordinates to a csv file 'red_panda_zoos.csv' which you can find in the same repository."
   ]
  },
  {
   "cell_type": "code",
   "execution_count": 73,
   "metadata": {},
   "outputs": [],
   "source": [
    "zoo_short_df.to_csv('red_panda_zoos.csv', index=False)"
   ]
  },
  {
   "cell_type": "markdown",
   "metadata": {},
   "source": [
    "Now, everything is ready for mapping results."
   ]
  },
  {
   "cell_type": "markdown",
   "metadata": {},
   "source": [
    "### 3.4. Mapping"
   ]
  },
  {
   "cell_type": "markdown",
   "metadata": {},
   "source": [
    "Plot the map:"
   ]
  },
  {
   "cell_type": "code",
   "execution_count": 74,
   "metadata": {},
   "outputs": [
    {
     "data": {
      "text/html": [
       "<div style=\"width:100%;\"><div style=\"position:relative;width:100%;height:0;padding-bottom:60%;\"><iframe src=\"data:text/html;charset=utf-8;base64,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\" style=\"position:absolute;width:100%;height:100%;left:0;top:0;border:none !important;\" allowfullscreen webkitallowfullscreen mozallowfullscreen></iframe></div></div>"
      ],
      "text/plain": [
       "<folium.folium.Map at 0x12c4d4b0>"
      ]
     },
     "execution_count": 74,
     "metadata": {},
     "output_type": "execute_result"
    }
   ],
   "source": [
    "panda_zoos_map = folium.Map(location=[35,0], zoom_start=2.4)\n",
    "\n",
    "for lat, lng, name in zip(zoo_short_df['latitude'], zoo_short_df['longitude'], zoo_short_df['en.name']):\n",
    "    label = '{0}'.format(name)\n",
    "    label = folium.Popup(label, parse_html=True)\n",
    "    folium.CircleMarker(\n",
    "        [lat, lng],\n",
    "        radius=5,\n",
    "        popup=label,\n",
    "        color='blue',\n",
    "        fill=True,\n",
    "        fill_color='#3186cc',\n",
    "        fill_opacity=0.7,\n",
    "        ).add_to(panda_zoos_map)\n",
    "    \n",
    "panda_zoos_map"
   ]
  },
  {
   "cell_type": "markdown",
   "metadata": {},
   "source": [
    "**See the 'zoo_map.jpg' in the repository.**"
   ]
  },
  {
   "cell_type": "markdown",
   "metadata": {},
   "source": [
    "## 4. Results"
   ]
  },
  {
   "cell_type": "markdown",
   "metadata": {},
   "source": [
    "What do we see on the map? Our initial assumption fails. Zoos in the database are spread unevenly. There are 2 major clusters in the US, and Japan. We should increase the coverage. There are a lot of red pandas in Europe, Australia. It is really easy to retrieve and append all relevant information to the database.  "
   ]
  },
  {
   "cell_type": "code",
   "execution_count": null,
   "metadata": {},
   "outputs": [],
   "source": []
  }
 ],
 "metadata": {
  "kernelspec": {
   "display_name": "Python 3",
   "language": "python",
   "name": "python3"
  },
  "language_info": {
   "codemirror_mode": {
    "name": "ipython",
    "version": 3
   },
   "file_extension": ".py",
   "mimetype": "text/x-python",
   "name": "python",
   "nbconvert_exporter": "python",
   "pygments_lexer": "ipython3",
   "version": "3.6.5"
  }
 },
 "nbformat": 4,
 "nbformat_minor": 2
}
